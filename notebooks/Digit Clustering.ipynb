{
 "cells": [
  {
   "cell_type": "code",
   "execution_count": 1,
   "metadata": {},
   "outputs": [],
   "source": [
    "%load_ext autoreload\n",
    "%autoreload 2"
   ]
  },
  {
   "cell_type": "code",
   "execution_count": 2,
   "metadata": {},
   "outputs": [],
   "source": [
    "from deepshape.surfaces import * \n",
    "import numpy as np\n",
    "import matplotlib.pyplot as plt "
   ]
  },
  {
   "cell_type": "code",
   "execution_count": 3,
   "metadata": {},
   "outputs": [],
   "source": [
    "import idx2numpy\n",
    "from sklearn.cluster import AgglomerativeClustering\n",
    "from sklearn.manifold import MDS\n",
    "from sklearn_extra.cluster import KMedoids\n",
    "from torchvision.transforms.functional import gaussian_blur\n",
    "\n",
    "\n",
    "from sklearn.metrics import confusion_matrix, multilabel_confusion_matrix"
   ]
  },
  {
   "cell_type": "code",
   "execution_count": 4,
   "metadata": {},
   "outputs": [],
   "source": [
    "def load_digits(examples_per_digit):\n",
    "    # Load Data\n",
    "    imgfile = \"../data/t10k-images.idx3-ubyte\"\n",
    "    imgdata = torch.tensor( idx2numpy.convert_from_file(imgfile), dtype=torch.float )\n",
    "    labelfile = \"../data/t10k-labels.idx1-ubyte\"\n",
    "    labels = torch.tensor(idx2numpy.convert_from_file(labelfile))\n",
    "    imgdata = gaussian_blur(imgdata, [3, 3])\n",
    "    imgdata /= imgdata.max()\n",
    "    \n",
    "    digits = torch.empty(10 *  examples_per_digit, 28, 28)\n",
    "    sublabels = torch.empty(10 * examples_per_digit, dtype=int)\n",
    "\n",
    "    for i in range(10):\n",
    "        start = i * examples_per_digit\n",
    "        digits[start:start+examples_per_digit] = imgdata[labels == i][:examples_per_digit]\n",
    "        sublabels[start:start+examples_per_digit] = i\n",
    "    return digits, sublabels"
   ]
  },
  {
   "cell_type": "code",
   "execution_count": 5,
   "metadata": {},
   "outputs": [],
   "source": [
    "class ImageDistance(SurfaceDistance, ComponentDistance):\n",
    "    def loss_func(self, U, Y):\n",
    "        return ((self.Q - self.r(Y))**2).sum() / self.k"
   ]
  },
  {
   "cell_type": "code",
   "execution_count": null,
   "metadata": {},
   "outputs": [
    {
     "name": "stdout",
     "output_type": "stream",
     "text": [
      "============================== Digit 0 ==============================\n",
      "-------------------- Comparing digits 0 and 0 --------------------\n"
     ]
    }
   ],
   "source": [
    "digits, sublabels = load_digits(2)\n",
    "distance = ImageWarpDistance(k=32)\n",
    "\n",
    "optim_builder = optimizer_builder(torch.optim.LBFGS, lr=1.0, max_iter=100)\n",
    "\n",
    "# Total number of images\n",
    "num_images = digits.shape[0]\n",
    "\n",
    "# Create empty distance matrix\n",
    "distance_matrix = np.zeros((num_images, num_images))\n",
    "\n",
    "\n",
    "for i in range(digits.shape[0]):\n",
    "    print(f\"{'=' * 30 } Digit {sublabels[i]} {'=' * 30}\")\n",
    "    \n",
    "    # Create qmap for current image\n",
    "    f = SingleChannelImageSurface(digits[i])\n",
    "    q = Qmap(f)\n",
    "    \n",
    "    # Loop thorugh all other images and compare to image i\n",
    "    for j in range(digits.shape[0]):\n",
    "        # 0 distance to itself\n",
    "        if i == j:\n",
    "            continue\n",
    "            \n",
    "        # Define qmap for other image.\n",
    "        g = SingleChannelImageSurface(digits[j])\n",
    "        r = Qmap(g)\n",
    "        \n",
    "        # Define a new netwrok used for matching.\n",
    "        rn = SurfaceReparametrizer(\n",
    "            [SineLayer(6, init_scale=0.) for _ in range(8)]\n",
    "        )\n",
    "        optimizer = optim_builder(rn)\n",
    "        \n",
    "        loss = ImageComponentDistance(q, r, k=32, h=None)\n",
    "        \n",
    "        # Match data\n",
    "        print(f\"{'-'*20} Comparing digits {sublabels[i]} and {sublabels[j]} {'-'*20}\")\n",
    "        reparametrize(rn, loss, optimizer, 100, Silent())\n",
    "        \n",
    "        # Insert into distance matrix. Alternatives\n",
    "#         distance_matrix[i, j] = ShapeDistance(q, r, k=32, h=3.4e-4)(rn)\n",
    "#         distance_matrix[i, j] = distance(rn)\n",
    "        distance_matrix[i, j] = ImageDistance(f, g, k=28)(rn)\n",
    "        print(f\"Loss: {distance_matrix[i, j]:.5f}\")\n",
    "        \n",
    "\n",
    "save_distance_matrix('distance_matrix.pickle', distance_matrix, sublabels)\n",
    "\n",
    "fig, axes = plt.subplots(10, examples_per_digit, figsize=(14, 20))\n",
    "for i in range(10):\n",
    "    for j in range(examples_per_digit):\n",
    "        axes[i][j].imshow(digits[examples_per_digit * i + j])\n",
    "        \n",
    "plt.show()\n",
    "\n",
    "plot_distance_matrix(distance_matrix)"
   ]
  },
  {
   "cell_type": "code",
   "execution_count": null,
   "metadata": {},
   "outputs": [],
   "source": [
    "D, y = load_distance_matrix(\"distance_matrix.pickle\")\n",
    "D /= D.max()\n",
    "plot_distance_matrix(D)\n",
    "S, A = symmetric_part(D), antisymmetric_part(D)\n",
    "\n",
    "# Create label list, as they were not stored with matrix.\n",
    "y = []\n",
    "for i in range(10):\n",
    "    y.extend([i, i])\n",
    "print(y)"
   ]
  },
  {
   "cell_type": "code",
   "execution_count": null,
   "metadata": {},
   "outputs": [],
   "source": [
    "X1 = mds(S)\n",
    "y1 = agglomerative_clustering(S)\n",
    "X2 = KMedoids(metric='precomputed', method='pam').fit_transform(S)\n",
    "y2 = KMedoids(metric='precomputed', method='pam').fit_predict(S)"
   ]
  },
  {
   "cell_type": "code",
   "execution_count": null,
   "metadata": {},
   "outputs": [],
   "source": [
    "plot_clustering(X1, y, y1)"
   ]
  },
  {
   "cell_type": "code",
   "execution_count": null,
   "metadata": {},
   "outputs": [],
   "source": [
    "plot_clustering(X2, y, y2)"
   ]
  },
  {
   "cell_type": "code",
   "execution_count": null,
   "metadata": {},
   "outputs": [],
   "source": [
    "plot_clustering(X2, y, y1)"
   ]
  },
  {
   "cell_type": "code",
   "execution_count": null,
   "metadata": {},
   "outputs": [],
   "source": [
    "plot_clustering(X1, y, y2)"
   ]
  },
  {
   "cell_type": "code",
   "execution_count": null,
   "metadata": {},
   "outputs": [],
   "source": [
    "plt.show()"
   ]
  }
 ],
 "metadata": {
  "@webio": {
   "lastCommId": null,
   "lastKernelId": null
  },
  "kernelspec": {
   "display_name": "Python 3",
   "language": "python",
   "name": "python3"
  },
  "language_info": {
   "codemirror_mode": {
    "name": "ipython",
    "version": 3
   },
   "file_extension": ".py",
   "mimetype": "text/x-python",
   "name": "python",
   "nbconvert_exporter": "python",
   "pygments_lexer": "ipython3",
   "version": "3.8.10"
  }
 },
 "nbformat": 4,
 "nbformat_minor": 4
}
